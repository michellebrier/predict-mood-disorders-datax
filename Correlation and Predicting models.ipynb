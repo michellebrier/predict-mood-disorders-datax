{
 "cells": [
  {
   "cell_type": "markdown",
   "metadata": {
    "toc": "true"
   },
   "source": [
    " # Table of Contents\n",
    "<div class=\"toc\" style=\"margin-top: 1em;\"><ul class=\"toc-item\" id=\"toc-level0\"><ul class=\"toc-item\"><li><span><a href=\"http://localhost:8888/notebooks/Correlation.ipynb#Correlation-Analysis\" data-toc-modified-id=\"Correlation-Analysis-0.1\">Correlation Analysis</a></span></li><li><span><a href=\"http://localhost:8888/notebooks/Correlation.ipynb#Predict-Depression-with-Logistic-Regression\" data-toc-modified-id=\"Predict-Depression-with-Logistic-Regression-0.2\">Predict Depression with Logistic Regression</a></span></li><li><span><a href=\"http://localhost:8888/notebooks/Correlation.ipynb#Plots-for-Accuracy\" data-toc-modified-id=\"Plots-for-Accuracy-0.3\">Plots for Accuracy</a></span></li><li><span><a href=\"http://localhost:8888/notebooks/Correlation.ipynb#Other-models\" data-toc-modified-id=\"Other-models-0.4\">Other models</a></span><ul class=\"toc-item\"><li><span><a href=\"http://localhost:8888/notebooks/Correlation.ipynb#Logistic-Regression\" data-toc-modified-id=\"Logistic-Regression-0.4.1\">Logistic Regression</a></span></li><li><span><a href=\"http://localhost:8888/notebooks/Correlation.ipynb#SVC\" data-toc-modified-id=\"SVC-0.4.2\">SVC</a></span></li><li><span><a href=\"http://localhost:8888/notebooks/Correlation.ipynb#K-Neighbours\" data-toc-modified-id=\"K-Neighbours-0.4.3\">K-Neighbours</a></span></li><li><span><a href=\"http://localhost:8888/notebooks/Correlation.ipynb#Perceptron\" data-toc-modified-id=\"Perceptron-0.4.4\">Perceptron</a></span></li><li><span><a href=\"http://localhost:8888/notebooks/Correlation.ipynb#Gradient-boosting\" data-toc-modified-id=\"Gradient-boosting-0.4.5\">Gradient boosting</a></span></li><li><span><a href=\"http://localhost:8888/notebooks/Correlation.ipynb#Random-forest\" data-toc-modified-id=\"Random-forest-0.4.6\">Random forest</a></span></li></ul></li><li><span><a href=\"http://localhost:8888/notebooks/Correlation.ipynb#Conclusion-with-graphs\" data-toc-modified-id=\"Conclusion-with-graphs-0.5\">Conclusion with graphs</a></span></li></ul></ul></div>"
   ]
  },
  {
   "cell_type": "markdown",
   "metadata": {},
   "source": [
    "## Correlation Analysis\n"
   ]
  },
  {
   "cell_type": "code",
   "execution_count": 1,
   "metadata": {
    "ExecuteTime": {
     "end_time": "2017-12-06T07:07:07.926681Z",
     "start_time": "2017-12-06T07:07:07.549059Z"
    },
    "collapsed": true
   },
   "outputs": [],
   "source": [
    "import numpy as np\n",
    "import pandas as pd\n",
    "import matplotlib.pyplot as plt"
   ]
  },
  {
   "cell_type": "code",
   "execution_count": 3,
   "metadata": {
    "ExecuteTime": {
     "end_time": "2017-12-06T02:30:33.767264Z",
     "start_time": "2017-12-06T02:30:33.295439Z"
    },
    "collapsed": true
   },
   "outputs": [],
   "source": [
    "patients = pd.read_csv('demographics_with_problems_labels_v2.csv', sep=';', encoding='utf-8')\n",
    "del patients['Unnamed: 0']"
   ]
  },
  {
   "cell_type": "code",
   "execution_count": 15,
   "metadata": {
    "ExecuteTime": {
     "end_time": "2017-12-06T02:56:47.333108Z",
     "start_time": "2017-12-06T02:56:21.988925Z"
    }
   },
   "outputs": [
    {
     "name": "stderr",
     "output_type": "stream",
     "text": [
      "/Users/Romain/.virtualenvs/romainvenv/lib/python3.6/site-packages/IPython/core/interactiveshell.py:2698: DtypeWarning: Columns (24,25,26,27,28,29,30,31,32,33,34,35) have mixed types. Specify dtype option on import or set low_memory=False.\n",
      "  interactivity=interactivity, compiler=compiler, result=result)\n"
     ]
    }
   ],
   "source": [
    "social_history = pd.read_csv('patients_with_labels.csv', sep=';', encoding='utf-8')\n",
    "del social_history['Unnamed: 0']"
   ]
  },
  {
   "cell_type": "code",
   "execution_count": 18,
   "metadata": {
    "ExecuteTime": {
     "end_time": "2017-12-06T02:57:35.172959Z",
     "start_time": "2017-12-06T02:57:35.149166Z"
    }
   },
   "outputs": [
    {
     "data": {
      "text/html": [
       "<div>\n",
       "<style>\n",
       "    .dataframe thead tr:only-child th {\n",
       "        text-align: right;\n",
       "    }\n",
       "\n",
       "    .dataframe thead th {\n",
       "        text-align: left;\n",
       "    }\n",
       "\n",
       "    .dataframe tbody tr th {\n",
       "        vertical-align: top;\n",
       "    }\n",
       "</style>\n",
       "<table border=\"1\" class=\"dataframe\">\n",
       "  <thead>\n",
       "    <tr style=\"text-align: right;\">\n",
       "      <th></th>\n",
       "      <th>studyid</th>\n",
       "      <th>encid</th>\n",
       "      <th>soc_hx_dt_m</th>\n",
       "      <th>soc_hx_smoke_stts</th>\n",
       "      <th>soc_hx_alc_yn</th>\n",
       "      <th>soc_hx_ill_drug_yn</th>\n",
       "      <th>soc_hx_sexual_act_yn</th>\n",
       "      <th>soc_hx_bc_type</th>\n",
       "      <th>pt_birth_dt_m</th>\n",
       "      <th>pt_death_dt_m</th>\n",
       "      <th>...</th>\n",
       "      <th>dx6_cd</th>\n",
       "      <th>dx6_nm</th>\n",
       "      <th>dx7_dt_m</th>\n",
       "      <th>dx7_cd</th>\n",
       "      <th>dx7_nm</th>\n",
       "      <th>label_sex</th>\n",
       "      <th>label_ethnicity</th>\n",
       "      <th>Age</th>\n",
       "      <th>label_age</th>\n",
       "      <th>label_smoker</th>\n",
       "    </tr>\n",
       "  </thead>\n",
       "  <tbody>\n",
       "    <tr>\n",
       "      <th>0</th>\n",
       "      <td>PT101071</td>\n",
       "      <td>ENC8471401</td>\n",
       "      <td>2013-11-08</td>\n",
       "      <td>FORMER SMOKER</td>\n",
       "      <td>0.0</td>\n",
       "      <td>0.0</td>\n",
       "      <td>9.0</td>\n",
       "      <td>NONE SPECIFIED</td>\n",
       "      <td>1931-03-29</td>\n",
       "      <td>2014-10-02</td>\n",
       "      <td>...</td>\n",
       "      <td>NaN</td>\n",
       "      <td>NaN</td>\n",
       "      <td>NaN</td>\n",
       "      <td>NaN</td>\n",
       "      <td>NaN</td>\n",
       "      <td>1</td>\n",
       "      <td>0</td>\n",
       "      <td>82</td>\n",
       "      <td>3</td>\n",
       "      <td>0</td>\n",
       "    </tr>\n",
       "    <tr>\n",
       "      <th>1</th>\n",
       "      <td>PT101071</td>\n",
       "      <td>ENC9836064</td>\n",
       "      <td>2013-12-20</td>\n",
       "      <td>FORMER SMOKER</td>\n",
       "      <td>0.0</td>\n",
       "      <td>0.0</td>\n",
       "      <td>9.0</td>\n",
       "      <td>NONE SPECIFIED</td>\n",
       "      <td>1931-03-29</td>\n",
       "      <td>2014-10-02</td>\n",
       "      <td>...</td>\n",
       "      <td>NaN</td>\n",
       "      <td>NaN</td>\n",
       "      <td>NaN</td>\n",
       "      <td>NaN</td>\n",
       "      <td>NaN</td>\n",
       "      <td>1</td>\n",
       "      <td>0</td>\n",
       "      <td>82</td>\n",
       "      <td>3</td>\n",
       "      <td>0</td>\n",
       "    </tr>\n",
       "    <tr>\n",
       "      <th>2</th>\n",
       "      <td>PT101071</td>\n",
       "      <td>ENC15082</td>\n",
       "      <td>2014-04-08</td>\n",
       "      <td>FORMER SMOKER</td>\n",
       "      <td>1.0</td>\n",
       "      <td>0.0</td>\n",
       "      <td>9.0</td>\n",
       "      <td>NONE SPECIFIED</td>\n",
       "      <td>1931-03-29</td>\n",
       "      <td>2014-10-02</td>\n",
       "      <td>...</td>\n",
       "      <td>NaN</td>\n",
       "      <td>NaN</td>\n",
       "      <td>NaN</td>\n",
       "      <td>NaN</td>\n",
       "      <td>NaN</td>\n",
       "      <td>1</td>\n",
       "      <td>0</td>\n",
       "      <td>82</td>\n",
       "      <td>3</td>\n",
       "      <td>0</td>\n",
       "    </tr>\n",
       "    <tr>\n",
       "      <th>3</th>\n",
       "      <td>PT101071</td>\n",
       "      <td>ENC17976449</td>\n",
       "      <td>2013-10-19</td>\n",
       "      <td>FORMER SMOKER</td>\n",
       "      <td>9.0</td>\n",
       "      <td>9.0</td>\n",
       "      <td>9.0</td>\n",
       "      <td>NONE SPECIFIED</td>\n",
       "      <td>1931-03-29</td>\n",
       "      <td>2014-10-02</td>\n",
       "      <td>...</td>\n",
       "      <td>NaN</td>\n",
       "      <td>NaN</td>\n",
       "      <td>NaN</td>\n",
       "      <td>NaN</td>\n",
       "      <td>NaN</td>\n",
       "      <td>1</td>\n",
       "      <td>0</td>\n",
       "      <td>82</td>\n",
       "      <td>3</td>\n",
       "      <td>0</td>\n",
       "    </tr>\n",
       "    <tr>\n",
       "      <th>4</th>\n",
       "      <td>PT101071</td>\n",
       "      <td>ENC11067729</td>\n",
       "      <td>2014-07-30</td>\n",
       "      <td>FORMER SMOKER</td>\n",
       "      <td>1.0</td>\n",
       "      <td>0.0</td>\n",
       "      <td>9.0</td>\n",
       "      <td>NONE SPECIFIED</td>\n",
       "      <td>1931-03-29</td>\n",
       "      <td>2014-10-02</td>\n",
       "      <td>...</td>\n",
       "      <td>NaN</td>\n",
       "      <td>NaN</td>\n",
       "      <td>NaN</td>\n",
       "      <td>NaN</td>\n",
       "      <td>NaN</td>\n",
       "      <td>1</td>\n",
       "      <td>0</td>\n",
       "      <td>83</td>\n",
       "      <td>3</td>\n",
       "      <td>0</td>\n",
       "    </tr>\n",
       "  </tbody>\n",
       "</table>\n",
       "<p>5 rows × 40 columns</p>\n",
       "</div>"
      ],
      "text/plain": [
       "    studyid        encid soc_hx_dt_m soc_hx_smoke_stts  soc_hx_alc_yn  \\\n",
       "0  PT101071   ENC8471401  2013-11-08     FORMER SMOKER            0.0   \n",
       "1  PT101071   ENC9836064  2013-12-20     FORMER SMOKER            0.0   \n",
       "2  PT101071     ENC15082  2014-04-08     FORMER SMOKER            1.0   \n",
       "3  PT101071  ENC17976449  2013-10-19     FORMER SMOKER            9.0   \n",
       "4  PT101071  ENC11067729  2014-07-30     FORMER SMOKER            1.0   \n",
       "\n",
       "   soc_hx_ill_drug_yn  soc_hx_sexual_act_yn  soc_hx_bc_type pt_birth_dt_m  \\\n",
       "0                 0.0                   9.0  NONE SPECIFIED    1931-03-29   \n",
       "1                 0.0                   9.0  NONE SPECIFIED    1931-03-29   \n",
       "2                 0.0                   9.0  NONE SPECIFIED    1931-03-29   \n",
       "3                 9.0                   9.0  NONE SPECIFIED    1931-03-29   \n",
       "4                 0.0                   9.0  NONE SPECIFIED    1931-03-29   \n",
       "\n",
       "  pt_death_dt_m     ...      dx6_cd dx6_nm dx7_dt_m dx7_cd dx7_nm label_sex  \\\n",
       "0    2014-10-02     ...         NaN    NaN      NaN    NaN    NaN         1   \n",
       "1    2014-10-02     ...         NaN    NaN      NaN    NaN    NaN         1   \n",
       "2    2014-10-02     ...         NaN    NaN      NaN    NaN    NaN         1   \n",
       "3    2014-10-02     ...         NaN    NaN      NaN    NaN    NaN         1   \n",
       "4    2014-10-02     ...         NaN    NaN      NaN    NaN    NaN         1   \n",
       "\n",
       "  label_ethnicity Age label_age label_smoker  \n",
       "0               0  82         3            0  \n",
       "1               0  82         3            0  \n",
       "2               0  82         3            0  \n",
       "3               0  82         3            0  \n",
       "4               0  83         3            0  \n",
       "\n",
       "[5 rows x 40 columns]"
      ]
     },
     "execution_count": 18,
     "metadata": {},
     "output_type": "execute_result"
    }
   ],
   "source": [
    "social_history.head()"
   ]
  },
  {
   "cell_type": "code",
   "execution_count": 2,
   "metadata": {
    "ExecuteTime": {
     "end_time": "2017-12-06T07:07:11.570831Z",
     "start_time": "2017-12-06T07:07:10.326596Z"
    }
   },
   "outputs": [
    {
     "name": "stderr",
     "output_type": "stream",
     "text": [
      "/Users/Romain/.virtualenvs/romainvenv/lib/python3.6/site-packages/IPython/core/interactiveshell.py:2698: DtypeWarning: Columns (23,24,25,26,27,28) have mixed types. Specify dtype option on import or set low_memory=False.\n",
      "  interactivity=interactivity, compiler=compiler, result=result)\n"
     ]
    }
   ],
   "source": [
    "data = pd.read_csv('first_appointments.csv', sep=';', encoding='utf-8')"
   ]
  },
  {
   "cell_type": "code",
   "execution_count": 3,
   "metadata": {
    "ExecuteTime": {
     "end_time": "2017-12-06T06:54:44.551996Z",
     "start_time": "2017-12-06T06:54:44.524698Z"
    }
   },
   "outputs": [
    {
     "data": {
      "text/html": [
       "<div>\n",
       "<style>\n",
       "    .dataframe thead tr:only-child th {\n",
       "        text-align: right;\n",
       "    }\n",
       "\n",
       "    .dataframe thead th {\n",
       "        text-align: left;\n",
       "    }\n",
       "\n",
       "    .dataframe tbody tr th {\n",
       "        vertical-align: top;\n",
       "    }\n",
       "</style>\n",
       "<table border=\"1\" class=\"dataframe\">\n",
       "  <thead>\n",
       "    <tr style=\"text-align: right;\">\n",
       "      <th></th>\n",
       "      <th>studyid</th>\n",
       "      <th>soc_hx_dt_m</th>\n",
       "      <th>encid</th>\n",
       "      <th>soc_hx_smoke_stts</th>\n",
       "      <th>soc_hx_alc_yn</th>\n",
       "      <th>soc_hx_ill_drug_yn</th>\n",
       "      <th>soc_hx_sexual_act_yn</th>\n",
       "      <th>soc_hx_bc_type</th>\n",
       "      <th>dx1_dt_m</th>\n",
       "      <th>dx1_cd</th>\n",
       "      <th>...</th>\n",
       "      <th>pt_ethnicity</th>\n",
       "      <th>isSleepDisorder</th>\n",
       "      <th>isActiveSleepDisorder</th>\n",
       "      <th>isAnxiety</th>\n",
       "      <th>isActiveAnxiety</th>\n",
       "      <th>isDepression</th>\n",
       "      <th>isActiveDepression</th>\n",
       "      <th>label_ethnicity</th>\n",
       "      <th>label_sex</th>\n",
       "      <th>label_age</th>\n",
       "    </tr>\n",
       "  </thead>\n",
       "  <tbody>\n",
       "    <tr>\n",
       "      <th>0</th>\n",
       "      <td>PT1</td>\n",
       "      <td>2015-06-28</td>\n",
       "      <td>ENC3011121</td>\n",
       "      <td>FORMER SMOKER</td>\n",
       "      <td>1.0</td>\n",
       "      <td>0.0</td>\n",
       "      <td>9.0</td>\n",
       "      <td>NONE SPECIFIED</td>\n",
       "      <td>2015-06-28</td>\n",
       "      <td>F32.9</td>\n",
       "      <td>...</td>\n",
       "      <td>Not Hispanic Or Latino</td>\n",
       "      <td>0.0</td>\n",
       "      <td>0.0</td>\n",
       "      <td>0.0</td>\n",
       "      <td>0.0</td>\n",
       "      <td>1.0</td>\n",
       "      <td>1.0</td>\n",
       "      <td>1</td>\n",
       "      <td>1</td>\n",
       "      <td>2</td>\n",
       "    </tr>\n",
       "    <tr>\n",
       "      <th>1</th>\n",
       "      <td>PT10</td>\n",
       "      <td>2014-01-24</td>\n",
       "      <td>ENC15475110</td>\n",
       "      <td>FORMER SMOKER</td>\n",
       "      <td>0.0</td>\n",
       "      <td>0.0</td>\n",
       "      <td>1.0</td>\n",
       "      <td>SURGICAL</td>\n",
       "      <td>2014-11-06</td>\n",
       "      <td>F41.1</td>\n",
       "      <td>...</td>\n",
       "      <td>Not Hispanic Or Latino</td>\n",
       "      <td>0.0</td>\n",
       "      <td>0.0</td>\n",
       "      <td>1.0</td>\n",
       "      <td>1.0</td>\n",
       "      <td>0.0</td>\n",
       "      <td>0.0</td>\n",
       "      <td>0</td>\n",
       "      <td>0</td>\n",
       "      <td>3</td>\n",
       "    </tr>\n",
       "    <tr>\n",
       "      <th>2</th>\n",
       "      <td>PT100</td>\n",
       "      <td>2015-11-04</td>\n",
       "      <td>ENC13863887</td>\n",
       "      <td>NEVER SMOKER</td>\n",
       "      <td>1.0</td>\n",
       "      <td>9.0</td>\n",
       "      <td>9.0</td>\n",
       "      <td>NONE SPECIFIED</td>\n",
       "      <td>2016-01-28</td>\n",
       "      <td>F41.1</td>\n",
       "      <td>...</td>\n",
       "      <td>Not Hispanic Or Latino</td>\n",
       "      <td>0.0</td>\n",
       "      <td>0.0</td>\n",
       "      <td>1.0</td>\n",
       "      <td>1.0</td>\n",
       "      <td>0.0</td>\n",
       "      <td>0.0</td>\n",
       "      <td>0</td>\n",
       "      <td>0</td>\n",
       "      <td>2</td>\n",
       "    </tr>\n",
       "    <tr>\n",
       "      <th>3</th>\n",
       "      <td>PT1000</td>\n",
       "      <td>2015-01-13</td>\n",
       "      <td>ENC1094855</td>\n",
       "      <td>FORMER SMOKER</td>\n",
       "      <td>0.0</td>\n",
       "      <td>0.0</td>\n",
       "      <td>1.0</td>\n",
       "      <td>NONE SPECIFIED</td>\n",
       "      <td>2001-04-04</td>\n",
       "      <td>F41.1</td>\n",
       "      <td>...</td>\n",
       "      <td>Not Hispanic Or Latino</td>\n",
       "      <td>1.0</td>\n",
       "      <td>1.0</td>\n",
       "      <td>1.0</td>\n",
       "      <td>1.0</td>\n",
       "      <td>1.0</td>\n",
       "      <td>0.0</td>\n",
       "      <td>0</td>\n",
       "      <td>1</td>\n",
       "      <td>3</td>\n",
       "    </tr>\n",
       "    <tr>\n",
       "      <th>4</th>\n",
       "      <td>PT1000</td>\n",
       "      <td>2015-01-13</td>\n",
       "      <td>ENC1094855</td>\n",
       "      <td>FORMER SMOKER</td>\n",
       "      <td>0.0</td>\n",
       "      <td>0.0</td>\n",
       "      <td>1.0</td>\n",
       "      <td>NONE SPECIFIED</td>\n",
       "      <td>2001-04-04</td>\n",
       "      <td>F41.1</td>\n",
       "      <td>...</td>\n",
       "      <td>Not Hispanic Or Latino</td>\n",
       "      <td>1.0</td>\n",
       "      <td>1.0</td>\n",
       "      <td>1.0</td>\n",
       "      <td>1.0</td>\n",
       "      <td>1.0</td>\n",
       "      <td>0.0</td>\n",
       "      <td>0</td>\n",
       "      <td>1</td>\n",
       "      <td>3</td>\n",
       "    </tr>\n",
       "  </tbody>\n",
       "</table>\n",
       "<p>5 rows × 46 columns</p>\n",
       "</div>"
      ],
      "text/plain": [
       "  studyid soc_hx_dt_m        encid soc_hx_smoke_stts  soc_hx_alc_yn  \\\n",
       "0     PT1  2015-06-28   ENC3011121     FORMER SMOKER            1.0   \n",
       "1    PT10  2014-01-24  ENC15475110     FORMER SMOKER            0.0   \n",
       "2   PT100  2015-11-04  ENC13863887      NEVER SMOKER            1.0   \n",
       "3  PT1000  2015-01-13   ENC1094855     FORMER SMOKER            0.0   \n",
       "4  PT1000  2015-01-13   ENC1094855     FORMER SMOKER            0.0   \n",
       "\n",
       "   soc_hx_ill_drug_yn  soc_hx_sexual_act_yn  soc_hx_bc_type    dx1_dt_m  \\\n",
       "0                 0.0                   9.0  NONE SPECIFIED  2015-06-28   \n",
       "1                 0.0                   1.0        SURGICAL  2014-11-06   \n",
       "2                 9.0                   9.0  NONE SPECIFIED  2016-01-28   \n",
       "3                 0.0                   1.0  NONE SPECIFIED  2001-04-04   \n",
       "4                 0.0                   1.0  NONE SPECIFIED  2001-04-04   \n",
       "\n",
       "  dx1_cd    ...               pt_ethnicity isSleepDisorder  \\\n",
       "0  F32.9    ...     Not Hispanic Or Latino             0.0   \n",
       "1  F41.1    ...     Not Hispanic Or Latino             0.0   \n",
       "2  F41.1    ...     Not Hispanic Or Latino             0.0   \n",
       "3  F41.1    ...     Not Hispanic Or Latino             1.0   \n",
       "4  F41.1    ...     Not Hispanic Or Latino             1.0   \n",
       "\n",
       "  isActiveSleepDisorder isAnxiety isActiveAnxiety isDepression  \\\n",
       "0                   0.0       0.0             0.0          1.0   \n",
       "1                   0.0       1.0             1.0          0.0   \n",
       "2                   0.0       1.0             1.0          0.0   \n",
       "3                   1.0       1.0             1.0          1.0   \n",
       "4                   1.0       1.0             1.0          1.0   \n",
       "\n",
       "  isActiveDepression label_ethnicity label_sex label_age  \n",
       "0                1.0               1         1         2  \n",
       "1                0.0               0         0         3  \n",
       "2                0.0               0         0         2  \n",
       "3                0.0               0         1         3  \n",
       "4                0.0               0         1         3  \n",
       "\n",
       "[5 rows x 46 columns]"
      ]
     },
     "execution_count": 3,
     "metadata": {},
     "output_type": "execute_result"
    }
   ],
   "source": [
    "data.head()"
   ]
  },
  {
   "cell_type": "code",
   "execution_count": 21,
   "metadata": {
    "ExecuteTime": {
     "end_time": "2017-12-06T02:59:05.963249Z",
     "start_time": "2017-12-06T02:59:05.959562Z"
    }
   },
   "outputs": [
    {
     "data": {
      "text/plain": [
       "array(['studyid', 'soc_hx_dt_m', 'encid', 'soc_hx_smoke_stts',\n",
       "       'soc_hx_alc_yn', 'soc_hx_ill_drug_yn', 'soc_hx_sexual_act_yn',\n",
       "       'soc_hx_bc_type', 'dx1_dt_m', 'dx1_cd', 'dx1_nm', 'dx2_dt_m',\n",
       "       'dx2_cd', 'dx2_nm', 'dx3_dt_m', 'dx3_cd', 'dx3_nm', 'dx4_dt_m',\n",
       "       'dx4_cd', 'dx4_nm', 'dx5_dt_m', 'dx5_cd', 'dx5_nm', 'dx6_dt_m',\n",
       "       'dx6_cd', 'dx6_nm', 'dx7_dt_m', 'dx7_cd', 'dx7_nm', 'Age',\n",
       "       'label_smoker', 'pt_birth_dt_m', 'pt_death_dt_m', 'pt_status',\n",
       "       'pt_sex', 'pt_race', 'pt_ethnicity', 'isSleepDisorder',\n",
       "       'isActiveSleepDisorder', 'isAnxiety', 'isActiveAnxiety',\n",
       "       'isDepression', 'isActiveDepression', 'label_ethnicity',\n",
       "       'label_sex', 'label_age'], dtype=object)"
      ]
     },
     "execution_count": 21,
     "metadata": {},
     "output_type": "execute_result"
    }
   ],
   "source": [
    "data.columns.values"
   ]
  },
  {
   "cell_type": "code",
   "execution_count": 3,
   "metadata": {
    "ExecuteTime": {
     "end_time": "2017-12-06T07:07:15.379592Z",
     "start_time": "2017-12-06T07:07:15.365841Z"
    },
    "collapsed": true
   },
   "outputs": [],
   "source": [
    "corr_data = data[['isSleepDisorder',\n",
    "       'isActiveSleepDisorder', 'isAnxiety', 'isActiveAnxiety',\n",
    "       'isDepression', 'isActiveDepression', 'label_ethnicity',\n",
    "       'label_sex', 'label_age','label_smoker','soc_hx_alc_yn', 'soc_hx_ill_drug_yn']]"
   ]
  },
  {
   "cell_type": "code",
   "execution_count": 4,
   "metadata": {
    "ExecuteTime": {
     "end_time": "2017-12-06T07:07:16.200485Z",
     "start_time": "2017-12-06T07:07:16.183838Z"
    }
   },
   "outputs": [
    {
     "data": {
      "text/html": [
       "<div>\n",
       "<style>\n",
       "    .dataframe thead tr:only-child th {\n",
       "        text-align: right;\n",
       "    }\n",
       "\n",
       "    .dataframe thead th {\n",
       "        text-align: left;\n",
       "    }\n",
       "\n",
       "    .dataframe tbody tr th {\n",
       "        vertical-align: top;\n",
       "    }\n",
       "</style>\n",
       "<table border=\"1\" class=\"dataframe\">\n",
       "  <thead>\n",
       "    <tr style=\"text-align: right;\">\n",
       "      <th></th>\n",
       "      <th>isSleepDisorder</th>\n",
       "      <th>isActiveSleepDisorder</th>\n",
       "      <th>isAnxiety</th>\n",
       "      <th>isActiveAnxiety</th>\n",
       "      <th>isDepression</th>\n",
       "      <th>isActiveDepression</th>\n",
       "      <th>label_ethnicity</th>\n",
       "      <th>label_sex</th>\n",
       "      <th>label_age</th>\n",
       "      <th>label_smoker</th>\n",
       "      <th>soc_hx_alc_yn</th>\n",
       "      <th>soc_hx_ill_drug_yn</th>\n",
       "    </tr>\n",
       "  </thead>\n",
       "  <tbody>\n",
       "    <tr>\n",
       "      <th>0</th>\n",
       "      <td>0.0</td>\n",
       "      <td>0.0</td>\n",
       "      <td>0.0</td>\n",
       "      <td>0.0</td>\n",
       "      <td>1.0</td>\n",
       "      <td>1.0</td>\n",
       "      <td>1</td>\n",
       "      <td>1</td>\n",
       "      <td>2</td>\n",
       "      <td>0</td>\n",
       "      <td>1.0</td>\n",
       "      <td>0.0</td>\n",
       "    </tr>\n",
       "    <tr>\n",
       "      <th>1</th>\n",
       "      <td>0.0</td>\n",
       "      <td>0.0</td>\n",
       "      <td>1.0</td>\n",
       "      <td>1.0</td>\n",
       "      <td>0.0</td>\n",
       "      <td>0.0</td>\n",
       "      <td>0</td>\n",
       "      <td>0</td>\n",
       "      <td>3</td>\n",
       "      <td>0</td>\n",
       "      <td>0.0</td>\n",
       "      <td>0.0</td>\n",
       "    </tr>\n",
       "    <tr>\n",
       "      <th>2</th>\n",
       "      <td>0.0</td>\n",
       "      <td>0.0</td>\n",
       "      <td>1.0</td>\n",
       "      <td>1.0</td>\n",
       "      <td>0.0</td>\n",
       "      <td>0.0</td>\n",
       "      <td>0</td>\n",
       "      <td>0</td>\n",
       "      <td>2</td>\n",
       "      <td>0</td>\n",
       "      <td>1.0</td>\n",
       "      <td>9.0</td>\n",
       "    </tr>\n",
       "    <tr>\n",
       "      <th>3</th>\n",
       "      <td>1.0</td>\n",
       "      <td>1.0</td>\n",
       "      <td>1.0</td>\n",
       "      <td>1.0</td>\n",
       "      <td>1.0</td>\n",
       "      <td>0.0</td>\n",
       "      <td>0</td>\n",
       "      <td>1</td>\n",
       "      <td>3</td>\n",
       "      <td>0</td>\n",
       "      <td>0.0</td>\n",
       "      <td>0.0</td>\n",
       "    </tr>\n",
       "    <tr>\n",
       "      <th>4</th>\n",
       "      <td>1.0</td>\n",
       "      <td>1.0</td>\n",
       "      <td>1.0</td>\n",
       "      <td>1.0</td>\n",
       "      <td>1.0</td>\n",
       "      <td>0.0</td>\n",
       "      <td>0</td>\n",
       "      <td>1</td>\n",
       "      <td>3</td>\n",
       "      <td>0</td>\n",
       "      <td>0.0</td>\n",
       "      <td>0.0</td>\n",
       "    </tr>\n",
       "  </tbody>\n",
       "</table>\n",
       "</div>"
      ],
      "text/plain": [
       "   isSleepDisorder  isActiveSleepDisorder  isAnxiety  isActiveAnxiety  \\\n",
       "0              0.0                    0.0        0.0              0.0   \n",
       "1              0.0                    0.0        1.0              1.0   \n",
       "2              0.0                    0.0        1.0              1.0   \n",
       "3              1.0                    1.0        1.0              1.0   \n",
       "4              1.0                    1.0        1.0              1.0   \n",
       "\n",
       "   isDepression  isActiveDepression  label_ethnicity  label_sex  label_age  \\\n",
       "0           1.0                 1.0                1          1          2   \n",
       "1           0.0                 0.0                0          0          3   \n",
       "2           0.0                 0.0                0          0          2   \n",
       "3           1.0                 0.0                0          1          3   \n",
       "4           1.0                 0.0                0          1          3   \n",
       "\n",
       "   label_smoker  soc_hx_alc_yn  soc_hx_ill_drug_yn  \n",
       "0             0            1.0                 0.0  \n",
       "1             0            0.0                 0.0  \n",
       "2             0            1.0                 9.0  \n",
       "3             0            0.0                 0.0  \n",
       "4             0            0.0                 0.0  "
      ]
     },
     "execution_count": 4,
     "metadata": {},
     "output_type": "execute_result"
    }
   ],
   "source": [
    "corr_data.head()"
   ]
  },
  {
   "cell_type": "code",
   "execution_count": 5,
   "metadata": {
    "ExecuteTime": {
     "end_time": "2017-12-06T07:07:17.547328Z",
     "start_time": "2017-12-06T07:07:17.471792Z"
    }
   },
   "outputs": [
    {
     "data": {
      "text/html": [
       "<div>\n",
       "<style>\n",
       "    .dataframe thead tr:only-child th {\n",
       "        text-align: right;\n",
       "    }\n",
       "\n",
       "    .dataframe thead th {\n",
       "        text-align: left;\n",
       "    }\n",
       "\n",
       "    .dataframe tbody tr th {\n",
       "        vertical-align: top;\n",
       "    }\n",
       "</style>\n",
       "<table border=\"1\" class=\"dataframe\">\n",
       "  <thead>\n",
       "    <tr style=\"text-align: right;\">\n",
       "      <th></th>\n",
       "      <th>isSleepDisorder</th>\n",
       "      <th>isActiveSleepDisorder</th>\n",
       "      <th>isAnxiety</th>\n",
       "      <th>isActiveAnxiety</th>\n",
       "      <th>isDepression</th>\n",
       "      <th>isActiveDepression</th>\n",
       "      <th>label_ethnicity</th>\n",
       "      <th>label_sex</th>\n",
       "      <th>label_age</th>\n",
       "      <th>label_smoker</th>\n",
       "      <th>soc_hx_alc_yn</th>\n",
       "      <th>soc_hx_ill_drug_yn</th>\n",
       "    </tr>\n",
       "  </thead>\n",
       "  <tbody>\n",
       "    <tr>\n",
       "      <th>isSleepDisorder</th>\n",
       "      <td>1.000000</td>\n",
       "      <td>0.901834</td>\n",
       "      <td>0.013459</td>\n",
       "      <td>-0.010790</td>\n",
       "      <td>0.085849</td>\n",
       "      <td>0.037383</td>\n",
       "      <td>-0.016398</td>\n",
       "      <td>0.067645</td>\n",
       "      <td>-0.121241</td>\n",
       "      <td>-0.068056</td>\n",
       "      <td>-0.043023</td>\n",
       "      <td>-0.046151</td>\n",
       "    </tr>\n",
       "    <tr>\n",
       "      <th>isActiveSleepDisorder</th>\n",
       "      <td>0.901834</td>\n",
       "      <td>1.000000</td>\n",
       "      <td>0.003634</td>\n",
       "      <td>-0.005887</td>\n",
       "      <td>0.071688</td>\n",
       "      <td>0.044320</td>\n",
       "      <td>-0.010579</td>\n",
       "      <td>0.060774</td>\n",
       "      <td>-0.109498</td>\n",
       "      <td>-0.056256</td>\n",
       "      <td>-0.031860</td>\n",
       "      <td>-0.032506</td>\n",
       "    </tr>\n",
       "    <tr>\n",
       "      <th>isAnxiety</th>\n",
       "      <td>0.013459</td>\n",
       "      <td>0.003634</td>\n",
       "      <td>1.000000</td>\n",
       "      <td>0.933683</td>\n",
       "      <td>-0.462625</td>\n",
       "      <td>-0.494921</td>\n",
       "      <td>-0.019922</td>\n",
       "      <td>-0.040652</td>\n",
       "      <td>0.011419</td>\n",
       "      <td>-0.031550</td>\n",
       "      <td>-0.019579</td>\n",
       "      <td>-0.032473</td>\n",
       "    </tr>\n",
       "    <tr>\n",
       "      <th>isActiveAnxiety</th>\n",
       "      <td>-0.010790</td>\n",
       "      <td>-0.005887</td>\n",
       "      <td>0.933683</td>\n",
       "      <td>1.000000</td>\n",
       "      <td>-0.462651</td>\n",
       "      <td>-0.461683</td>\n",
       "      <td>-0.013229</td>\n",
       "      <td>-0.034923</td>\n",
       "      <td>0.015835</td>\n",
       "      <td>-0.026638</td>\n",
       "      <td>-0.009656</td>\n",
       "      <td>-0.021595</td>\n",
       "    </tr>\n",
       "    <tr>\n",
       "      <th>isDepression</th>\n",
       "      <td>0.085849</td>\n",
       "      <td>0.071688</td>\n",
       "      <td>-0.462625</td>\n",
       "      <td>-0.462651</td>\n",
       "      <td>1.000000</td>\n",
       "      <td>0.887153</td>\n",
       "      <td>-0.008062</td>\n",
       "      <td>-0.027324</td>\n",
       "      <td>-0.100249</td>\n",
       "      <td>0.010669</td>\n",
       "      <td>0.005001</td>\n",
       "      <td>0.017184</td>\n",
       "    </tr>\n",
       "    <tr>\n",
       "      <th>isActiveDepression</th>\n",
       "      <td>0.037383</td>\n",
       "      <td>0.044320</td>\n",
       "      <td>-0.494921</td>\n",
       "      <td>-0.461683</td>\n",
       "      <td>0.887153</td>\n",
       "      <td>1.000000</td>\n",
       "      <td>0.003647</td>\n",
       "      <td>-0.014603</td>\n",
       "      <td>-0.088213</td>\n",
       "      <td>0.016526</td>\n",
       "      <td>0.019665</td>\n",
       "      <td>0.035521</td>\n",
       "    </tr>\n",
       "    <tr>\n",
       "      <th>label_ethnicity</th>\n",
       "      <td>-0.016398</td>\n",
       "      <td>-0.010579</td>\n",
       "      <td>-0.019922</td>\n",
       "      <td>-0.013229</td>\n",
       "      <td>-0.008062</td>\n",
       "      <td>0.003647</td>\n",
       "      <td>1.000000</td>\n",
       "      <td>0.000888</td>\n",
       "      <td>0.094784</td>\n",
       "      <td>-0.000414</td>\n",
       "      <td>-0.001532</td>\n",
       "      <td>-0.009758</td>\n",
       "    </tr>\n",
       "    <tr>\n",
       "      <th>label_sex</th>\n",
       "      <td>0.067645</td>\n",
       "      <td>0.060774</td>\n",
       "      <td>-0.040652</td>\n",
       "      <td>-0.034923</td>\n",
       "      <td>-0.027324</td>\n",
       "      <td>-0.014603</td>\n",
       "      <td>0.000888</td>\n",
       "      <td>1.000000</td>\n",
       "      <td>0.032462</td>\n",
       "      <td>0.041008</td>\n",
       "      <td>0.051465</td>\n",
       "      <td>0.059489</td>\n",
       "    </tr>\n",
       "    <tr>\n",
       "      <th>label_age</th>\n",
       "      <td>-0.121241</td>\n",
       "      <td>-0.109498</td>\n",
       "      <td>0.011419</td>\n",
       "      <td>0.015835</td>\n",
       "      <td>-0.100249</td>\n",
       "      <td>-0.088213</td>\n",
       "      <td>0.094784</td>\n",
       "      <td>0.032462</td>\n",
       "      <td>1.000000</td>\n",
       "      <td>0.107055</td>\n",
       "      <td>0.018457</td>\n",
       "      <td>-0.065529</td>\n",
       "    </tr>\n",
       "    <tr>\n",
       "      <th>label_smoker</th>\n",
       "      <td>-0.068056</td>\n",
       "      <td>-0.056256</td>\n",
       "      <td>-0.031550</td>\n",
       "      <td>-0.026638</td>\n",
       "      <td>0.010669</td>\n",
       "      <td>0.016526</td>\n",
       "      <td>-0.000414</td>\n",
       "      <td>0.041008</td>\n",
       "      <td>0.107055</td>\n",
       "      <td>1.000000</td>\n",
       "      <td>0.084474</td>\n",
       "      <td>0.062326</td>\n",
       "    </tr>\n",
       "    <tr>\n",
       "      <th>soc_hx_alc_yn</th>\n",
       "      <td>-0.043023</td>\n",
       "      <td>-0.031860</td>\n",
       "      <td>-0.019579</td>\n",
       "      <td>-0.009656</td>\n",
       "      <td>0.005001</td>\n",
       "      <td>0.019665</td>\n",
       "      <td>-0.001532</td>\n",
       "      <td>0.051465</td>\n",
       "      <td>0.018457</td>\n",
       "      <td>0.084474</td>\n",
       "      <td>1.000000</td>\n",
       "      <td>0.624373</td>\n",
       "    </tr>\n",
       "    <tr>\n",
       "      <th>soc_hx_ill_drug_yn</th>\n",
       "      <td>-0.046151</td>\n",
       "      <td>-0.032506</td>\n",
       "      <td>-0.032473</td>\n",
       "      <td>-0.021595</td>\n",
       "      <td>0.017184</td>\n",
       "      <td>0.035521</td>\n",
       "      <td>-0.009758</td>\n",
       "      <td>0.059489</td>\n",
       "      <td>-0.065529</td>\n",
       "      <td>0.062326</td>\n",
       "      <td>0.624373</td>\n",
       "      <td>1.000000</td>\n",
       "    </tr>\n",
       "  </tbody>\n",
       "</table>\n",
       "</div>"
      ],
      "text/plain": [
       "                       isSleepDisorder  isActiveSleepDisorder  isAnxiety  \\\n",
       "isSleepDisorder               1.000000               0.901834   0.013459   \n",
       "isActiveSleepDisorder         0.901834               1.000000   0.003634   \n",
       "isAnxiety                     0.013459               0.003634   1.000000   \n",
       "isActiveAnxiety              -0.010790              -0.005887   0.933683   \n",
       "isDepression                  0.085849               0.071688  -0.462625   \n",
       "isActiveDepression            0.037383               0.044320  -0.494921   \n",
       "label_ethnicity              -0.016398              -0.010579  -0.019922   \n",
       "label_sex                     0.067645               0.060774  -0.040652   \n",
       "label_age                    -0.121241              -0.109498   0.011419   \n",
       "label_smoker                 -0.068056              -0.056256  -0.031550   \n",
       "soc_hx_alc_yn                -0.043023              -0.031860  -0.019579   \n",
       "soc_hx_ill_drug_yn           -0.046151              -0.032506  -0.032473   \n",
       "\n",
       "                       isActiveAnxiety  isDepression  isActiveDepression  \\\n",
       "isSleepDisorder              -0.010790      0.085849            0.037383   \n",
       "isActiveSleepDisorder        -0.005887      0.071688            0.044320   \n",
       "isAnxiety                     0.933683     -0.462625           -0.494921   \n",
       "isActiveAnxiety               1.000000     -0.462651           -0.461683   \n",
       "isDepression                 -0.462651      1.000000            0.887153   \n",
       "isActiveDepression           -0.461683      0.887153            1.000000   \n",
       "label_ethnicity              -0.013229     -0.008062            0.003647   \n",
       "label_sex                    -0.034923     -0.027324           -0.014603   \n",
       "label_age                     0.015835     -0.100249           -0.088213   \n",
       "label_smoker                 -0.026638      0.010669            0.016526   \n",
       "soc_hx_alc_yn                -0.009656      0.005001            0.019665   \n",
       "soc_hx_ill_drug_yn           -0.021595      0.017184            0.035521   \n",
       "\n",
       "                       label_ethnicity  label_sex  label_age  label_smoker  \\\n",
       "isSleepDisorder              -0.016398   0.067645  -0.121241     -0.068056   \n",
       "isActiveSleepDisorder        -0.010579   0.060774  -0.109498     -0.056256   \n",
       "isAnxiety                    -0.019922  -0.040652   0.011419     -0.031550   \n",
       "isActiveAnxiety              -0.013229  -0.034923   0.015835     -0.026638   \n",
       "isDepression                 -0.008062  -0.027324  -0.100249      0.010669   \n",
       "isActiveDepression            0.003647  -0.014603  -0.088213      0.016526   \n",
       "label_ethnicity               1.000000   0.000888   0.094784     -0.000414   \n",
       "label_sex                     0.000888   1.000000   0.032462      0.041008   \n",
       "label_age                     0.094784   0.032462   1.000000      0.107055   \n",
       "label_smoker                 -0.000414   0.041008   0.107055      1.000000   \n",
       "soc_hx_alc_yn                -0.001532   0.051465   0.018457      0.084474   \n",
       "soc_hx_ill_drug_yn           -0.009758   0.059489  -0.065529      0.062326   \n",
       "\n",
       "                       soc_hx_alc_yn  soc_hx_ill_drug_yn  \n",
       "isSleepDisorder            -0.043023           -0.046151  \n",
       "isActiveSleepDisorder      -0.031860           -0.032506  \n",
       "isAnxiety                  -0.019579           -0.032473  \n",
       "isActiveAnxiety            -0.009656           -0.021595  \n",
       "isDepression                0.005001            0.017184  \n",
       "isActiveDepression          0.019665            0.035521  \n",
       "label_ethnicity            -0.001532           -0.009758  \n",
       "label_sex                   0.051465            0.059489  \n",
       "label_age                   0.018457           -0.065529  \n",
       "label_smoker                0.084474            0.062326  \n",
       "soc_hx_alc_yn               1.000000            0.624373  \n",
       "soc_hx_ill_drug_yn          0.624373            1.000000  "
      ]
     },
     "execution_count": 5,
     "metadata": {},
     "output_type": "execute_result"
    }
   ],
   "source": [
    "corr_data.corr()"
   ]
  },
  {
   "cell_type": "code",
   "execution_count": 8,
   "metadata": {
    "ExecuteTime": {
     "end_time": "2017-12-06T06:54:59.837433Z",
     "start_time": "2017-12-06T06:54:59.829282Z"
    }
   },
   "outputs": [
    {
     "data": {
      "text/plain": [
       "0.0    156667\n",
       "9.0     26186\n",
       "1.0      7829\n",
       "Name: soc_hx_ill_drug_yn, dtype: int64"
      ]
     },
     "execution_count": 8,
     "metadata": {},
     "output_type": "execute_result"
    }
   ],
   "source": [
    "corr_data['soc_hx_ill_drug_yn'].value_counts()"
   ]
  },
  {
   "cell_type": "code",
   "execution_count": 9,
   "metadata": {
    "ExecuteTime": {
     "end_time": "2017-12-06T06:55:00.692813Z",
     "start_time": "2017-12-06T06:55:00.652614Z"
    }
   },
   "outputs": [
    {
     "data": {
      "text/plain": [
       "isSleepDisorder             0\n",
       "isActiveSleepDisorder       0\n",
       "isAnxiety                   0\n",
       "isActiveAnxiety             0\n",
       "isDepression                0\n",
       "isActiveDepression          0\n",
       "label_ethnicity             0\n",
       "label_sex                   0\n",
       "label_age                   0\n",
       "label_smoker                0\n",
       "soc_hx_alc_yn            1812\n",
       "soc_hx_ill_drug_yn       2112\n",
       "dtype: int64"
      ]
     },
     "execution_count": 9,
     "metadata": {},
     "output_type": "execute_result"
    }
   ],
   "source": [
    "corr_data.isnull().sum()"
   ]
  },
  {
   "cell_type": "code",
   "execution_count": 6,
   "metadata": {
    "ExecuteTime": {
     "end_time": "2017-12-06T07:07:23.230418Z",
     "start_time": "2017-12-06T07:07:23.189410Z"
    },
    "collapsed": true
   },
   "outputs": [],
   "source": [
    "corr_data = corr_data.drop(corr_data[corr_data['soc_hx_ill_drug_yn'] == 9].index)\n",
    "corr_data = corr_data.drop(corr_data[corr_data['soc_hx_alc_yn'] == 9].index)"
   ]
  },
  {
   "cell_type": "code",
   "execution_count": 7,
   "metadata": {
    "ExecuteTime": {
     "end_time": "2017-12-06T07:07:23.495024Z",
     "start_time": "2017-12-06T07:07:23.476983Z"
    },
    "collapsed": true
   },
   "outputs": [],
   "source": [
    "corr_data = corr_data[np.isfinite(corr_data['soc_hx_ill_drug_yn'])]\n",
    "corr_data = corr_data[np.isfinite(corr_data['soc_hx_alc_yn'])]"
   ]
  },
  {
   "cell_type": "code",
   "execution_count": 12,
   "metadata": {
    "ExecuteTime": {
     "end_time": "2017-12-06T06:55:07.152744Z",
     "start_time": "2017-12-06T06:55:06.045952Z"
    }
   },
   "outputs": [
    {
     "data": {
      "text/plain": [
       "<matplotlib.axes._subplots.AxesSubplot at 0x10dd649b0>"
      ]
     },
     "execution_count": 12,
     "metadata": {},
     "output_type": "execute_result"
    },
    {
     "data": {
      "image/png": "[encoded data removed]",
      "text/plain": [
       "<matplotlib.figure.Figure at 0x10dd27f60>"
      ]
     },
     "metadata": {},
     "output_type": "display_data"
    }
   ],
   "source": [
    "import seaborn as sns\n",
    "%matplotlib inline\n",
    "sns.heatmap(corr_data.corr(), annot=True)"
   ]
  },
  {
   "cell_type": "markdown",
   "metadata": {},
   "source": [
    "## Predict Depression with Logistic Regression "
   ]
  },
  {
   "cell_type": "code",
   "execution_count": 8,
   "metadata": {
    "ExecuteTime": {
     "end_time": "2017-12-06T07:07:29.705182Z",
     "start_time": "2017-12-06T07:07:29.396394Z"
    }
   },
   "outputs": [
    {
     "name": "stdout",
     "output_type": "stream",
     "text": [
      "The distribution of the Heating Load classifiers : \n",
      "0.0    83529\n",
      "1.0    80055\n",
      "Name: isDepression, dtype: int64\n",
      "Number of samples in training data: 139046\n",
      "Number of samples in validation data: 24538\n"
     ]
    }
   ],
   "source": [
    "X = corr_data[['isSleepDisorder',\n",
    "       'isActiveSleepDisorder', 'isAnxiety', 'isActiveAnxiety', 'label_ethnicity',\n",
    "       'label_sex', 'label_age','label_smoker','soc_hx_alc_yn', 'soc_hx_ill_drug_yn']]\n",
    "Y = corr_data['isDepression']\n",
    "print('The distribution of the Heating Load classifiers : ')\n",
    "print (Y.value_counts())\n",
    "from sklearn.model_selection import train_test_split\n",
    "x_train, x_test, y_train, y_test = train_test_split(X, Y, test_size=0.15,\n",
    "                                                             random_state=100)\n",
    "print ('Number of samples in training data:',len(x_train))\n",
    "print ('Number of samples in validation data:',len(x_test))"
   ]
  },
  {
   "cell_type": "code",
   "execution_count": 9,
   "metadata": {
    "ExecuteTime": {
     "end_time": "2017-12-06T07:07:30.169444Z",
     "start_time": "2017-12-06T07:07:29.893113Z"
    }
   },
   "outputs": [
    {
     "name": "stdout",
     "output_type": "stream",
     "text": [
      "Training a logistic Regression Model..\n"
     ]
    },
    {
     "data": {
      "text/plain": [
       "LogisticRegression(C=100000.0, class_weight=None, dual=False,\n",
       "          fit_intercept=True, intercept_scaling=1, max_iter=100,\n",
       "          multi_class='ovr', n_jobs=1, penalty='l2', random_state=None,\n",
       "          solver='liblinear', tol=0.0001, verbose=0, warm_start=False)"
      ]
     },
     "execution_count": 9,
     "metadata": {},
     "output_type": "execute_result"
    }
   ],
   "source": [
    "from sklearn import linear_model\n",
    "logreg_model = linear_model.LogisticRegression(C=1e5)\n",
    "print ('Training a logistic Regression Model..')\n",
    "logreg_model.fit(x_train, y_train)"
   ]
  },
  {
   "cell_type": "code",
   "execution_count": 10,
   "metadata": {
    "ExecuteTime": {
     "end_time": "2017-12-06T07:07:30.785714Z",
     "start_time": "2017-12-06T07:07:30.757066Z"
    }
   },
   "outputs": [
    {
     "name": "stdout",
     "output_type": "stream",
     "text": [
      "Training Accuracy: 0.727039972383\n"
     ]
    }
   ],
   "source": [
    "training_accuracy = logreg_model.score(x_train,y_train)\n",
    "print ('Training Accuracy:',training_accuracy)"
   ]
  },
  {
   "cell_type": "code",
   "execution_count": 11,
   "metadata": {
    "ExecuteTime": {
     "end_time": "2017-12-06T07:07:31.195579Z",
     "start_time": "2017-12-06T07:07:31.187475Z"
    }
   },
   "outputs": [
    {
     "name": "stdout",
     "output_type": "stream",
     "text": [
      "Test Accuracy: 0.723653109463\n"
     ]
    }
   ],
   "source": [
    "test_accuracy = logreg_model.score(x_test,y_test)\n",
    "print ('Test Accuracy:',test_accuracy)"
   ]
  },
  {
   "cell_type": "markdown",
   "metadata": {},
   "source": [
    "## Plots for Accuracy"
   ]
  },
  {
   "cell_type": "code",
   "execution_count": 12,
   "metadata": {
    "ExecuteTime": {
     "end_time": "2017-12-06T07:07:38.097897Z",
     "start_time": "2017-12-06T07:07:38.068093Z"
    },
    "collapsed": true
   },
   "outputs": [],
   "source": [
    "from sklearn.utils import shuffle\n",
    "data = shuffle(corr_data).reset_index(drop=True)"
   ]
  },
  {
   "cell_type": "code",
   "execution_count": 13,
   "metadata": {
    "ExecuteTime": {
     "end_time": "2017-12-06T07:07:40.182572Z",
     "start_time": "2017-12-06T07:07:38.226966Z"
    },
    "collapsed": true
   },
   "outputs": [],
   "source": [
    "N = [0.05 , 0.10, 0.15 , 0.20, 0.25 , 0.30, 0.35]\n",
    "X = data[['isSleepDisorder',\n",
    "       'isActiveSleepDisorder', 'isAnxiety', 'isActiveAnxiety', 'label_ethnicity',\n",
    "       'label_sex', 'label_age','label_smoker','soc_hx_alc_yn', 'soc_hx_ill_drug_yn']]\n",
    "Y = data['isDepression']\n",
    "training_accuracy_list = []\n",
    "test_accuracy_list = []\n",
    "for n in N:\n",
    "    x_train, x_test, y_train, y_test = train_test_split(X, Y, test_size= n,\n",
    "                                                             random_state=100)\n",
    "    logreg_model = linear_model.LogisticRegression(C=1e5)\n",
    "    logreg_model.fit(x_train, y_train)\n",
    "    training_accuracy = logreg_model.score(x_train,y_train)\n",
    "    test_accuracy = logreg_model.score(x_test,y_test)\n",
    "    training_accuracy_list.append(training_accuracy)\n",
    "    test_accuracy_list.append(test_accuracy)"
   ]
  },
  {
   "cell_type": "code",
   "execution_count": 14,
   "metadata": {
    "ExecuteTime": {
     "end_time": "2017-12-06T07:07:40.186926Z",
     "start_time": "2017-12-06T07:07:40.184186Z"
    },
    "collapsed": true
   },
   "outputs": [],
   "source": [
    "N2 = [x * len(data) for x in N]"
   ]
  },
  {
   "cell_type": "code",
   "execution_count": 15,
   "metadata": {
    "ExecuteTime": {
     "end_time": "2017-12-06T07:07:40.378300Z",
     "start_time": "2017-12-06T07:07:40.188998Z"
    },
    "scrolled": true
   },
   "outputs": [
    {
     "data": {
      "image/png": "[encoded data removed]",
      "text/plain": [
       "<matplotlib.figure.Figure at 0x113977128>"
      ]
     },
     "metadata": {},
     "output_type": "display_data"
    }
   ],
   "source": [
    "plt.plot(N2, test_accuracy_list)\n",
    "plt.title('Testing accuracy vs the number of elements in the training test')\n",
    "plt.xlabel('Number of elements in the training set')\n",
    "plt.ylabel('Testing Accuracy')\n",
    "plt.show()"
   ]
  },
  {
   "cell_type": "code",
   "execution_count": 16,
   "metadata": {
    "ExecuteTime": {
     "end_time": "2017-12-06T07:07:47.460772Z",
     "start_time": "2017-12-06T07:07:45.740263Z"
    },
    "collapsed": true
   },
   "outputs": [],
   "source": [
    "X1 = data[['isSleepDisorder',\n",
    "       'isActiveSleepDisorder', 'label_ethnicity',\n",
    "       'label_sex', 'label_age','label_smoker','soc_hx_alc_yn', 'soc_hx_ill_drug_yn']]\n",
    "Y = data['isDepression']\n",
    "training_accuracy_list = []\n",
    "test_accuracy_list = []\n",
    "for n in N:\n",
    "    x_train, x_test, y_train, y_test = train_test_split(X1, Y, test_size= n,\n",
    "                                                             random_state=100)\n",
    "    logreg_model = linear_model.LogisticRegression(C=1e5)\n",
    "    logreg_model.fit(x_train, y_train)\n",
    "    training_accuracy = logreg_model.score(x_train,y_train)\n",
    "    test_accuracy = logreg_model.score(x_test,y_test)\n",
    "    training_accuracy_list.append(training_accuracy)\n",
    "    test_accuracy_list.append(test_accuracy)"
   ]
  },
  {
   "cell_type": "code",
   "execution_count": 17,
   "metadata": {
    "ExecuteTime": {
     "end_time": "2017-12-06T07:07:48.439664Z",
     "start_time": "2017-12-06T07:07:48.188302Z"
    }
   },
   "outputs": [
    {
     "data": {
      "image/png": "[encoded data removed]",
      "text/plain": [
       "<matplotlib.figure.Figure at 0x113f992e8>"
      ]
     },
     "metadata": {},
     "output_type": "display_data"
    }
   ],
   "source": [
    "plt.plot(N2, test_accuracy_list)\n",
    "plt.title('Testing accuracy vs the number of elements in the training test')\n",
    "plt.xlabel('Number of elements in the training set')\n",
    "plt.ylabel('Testing Accuracy')\n",
    "plt.show()"
   ]
  },
  {
   "cell_type": "markdown",
   "metadata": {},
   "source": [
    "## Other models"
   ]
  },
  {
   "cell_type": "code",
   "execution_count": 28,
   "metadata": {
    "ExecuteTime": {
     "end_time": "2017-12-06T07:14:49.836508Z",
     "start_time": "2017-12-06T07:14:49.797435Z"
    }
   },
   "outputs": [
    {
     "name": "stderr",
     "output_type": "stream",
     "text": [
      "/Users/Romain/.virtualenvs/romainvenv/lib/python3.6/site-packages/sklearn/cross_validation.py:41: DeprecationWarning: This module was deprecated in version 0.18 in favor of the model_selection module into which all the refactored classes and functions are moved. Also note that the interface of the new CV iterators are different from that of this module. This module will be removed in 0.20.\n",
      "  \"This module will be removed in 0.20.\", DeprecationWarning)\n"
     ]
    }
   ],
   "source": [
    "from sklearn.model_selection import train_test_split\n",
    "from sklearn.linear_model import LogisticRegression\n",
    "from sklearn.svm import SVC, LinearSVC\n",
    "from sklearn.ensemble import RandomForestClassifier\n",
    "from sklearn.neighbors import KNeighborsClassifier\n",
    "from sklearn.naive_bayes import GaussianNB # Gaussian Naive Bays\n",
    "from sklearn.linear_model import Perceptron\n",
    "from sklearn.linear_model import SGDClassifier #stochastic gradient descent from sklearn.tree import DecisionTreeClassifier\n",
    "import xgboost as xgb"
   ]
  },
  {
   "cell_type": "code",
   "execution_count": 29,
   "metadata": {
    "ExecuteTime": {
     "end_time": "2017-12-06T07:14:50.576256Z",
     "start_time": "2017-12-06T07:14:50.518312Z"
    }
   },
   "outputs": [
    {
     "name": "stdout",
     "output_type": "stream",
     "text": [
      "Number of samples in training data: 139046\n",
      "Number of samples in validation data: 24538\n"
     ]
    }
   ],
   "source": [
    "data = shuffle(corr_data).reset_index(drop=True)\n",
    "X = data[['isSleepDisorder',\n",
    "       'isActiveSleepDisorder', 'isAnxiety', 'isActiveAnxiety', 'label_ethnicity',\n",
    "       'label_sex', 'label_age','label_smoker','soc_hx_alc_yn', 'soc_hx_ill_drug_yn']]\n",
    "Y = data['isDepression']\n",
    "x_train, x_test, y_train, y_test = train_test_split(X, Y, test_size= 0.15,\n",
    "                                                             random_state=100)\n",
    "acc_train = []\n",
    "acc_test = []\n",
    "methods = ['Logistic Regression', 'SVM','k-NN','Perceptron','XGBoost','Random Forests']\n",
    "\n",
    "print('Number of samples in training data:',len(x_train))\n",
    "print('Number of samples in validation data:',len(x_test))"
   ]
  },
  {
   "cell_type": "markdown",
   "metadata": {},
   "source": [
    "### Logistic Regression"
   ]
  },
  {
   "cell_type": "code",
   "execution_count": 30,
   "metadata": {
    "ExecuteTime": {
     "end_time": "2017-12-06T07:14:51.691230Z",
     "start_time": "2017-12-06T07:14:51.397542Z"
    },
    "collapsed": true
   },
   "outputs": [],
   "source": [
    "X = corr_data[['isSleepDisorder',\n",
    "       'isActiveSleepDisorder', 'isAnxiety', 'isActiveAnxiety', 'label_ethnicity',\n",
    "       'label_sex', 'label_age','label_smoker','soc_hx_alc_yn', 'soc_hx_ill_drug_yn']]\n",
    "Y = corr_data['isDepression']\n",
    "\n",
    "x_train, x_test, y_train, y_test = train_test_split(X, Y, test_size=0.15,\n",
    "                                                             random_state=100)\n",
    "logreg_model = linear_model.LogisticRegression(C=1e5)\n",
    "logreg_model.fit(x_train, y_train)\n",
    "training_accuracy = logreg_model.score(x_train,y_train)\n",
    "test_accuracy = logreg_model.score(x_test,y_test)\n",
    "acc_train.append(training_accuracy*100)\n",
    "acc_test.append(test_accuracy*100)"
   ]
  },
  {
   "cell_type": "markdown",
   "metadata": {},
   "source": [
    "### SVC"
   ]
  },
  {
   "cell_type": "markdown",
   "metadata": {
    "ExecuteTime": {
     "start_time": "2017-12-06T06:59:55.553Z"
    }
   },
   "source": [
    "svc = SVC()\n",
    "svc.fit(x_train, y_train)\n",
    "y_pred = svc.predict(x_test)\n",
    "acc_svc_train = round(svc.score(x_train, y_train) * 100, 2)\n",
    "acc_svc_test = round(svc.score(x_test, y_test) * 100, 2)\n",
    "acc_train.append(acc_svc_train)\n",
    "acc_test.append(acc_svc_test)\n",
    "print('The training accuracy is :  %r ' %acc_svc_train)\n",
    "print('The test accuracy is :  %r ' %acc_svc_test)"
   ]
  },
  {
   "cell_type": "markdown",
   "metadata": {},
   "source": [
    "### K-Neighbours\n"
   ]
  },
  {
   "cell_type": "code",
   "execution_count": 31,
   "metadata": {
    "ExecuteTime": {
     "end_time": "2017-12-06T07:16:12.900684Z",
     "start_time": "2017-12-06T07:14:52.946310Z"
    }
   },
   "outputs": [
    {
     "name": "stdout",
     "output_type": "stream",
     "text": [
      "The training accuracy is :  68.920000000000002 \n",
      "The test accuracy is :  68.049999999999997 \n"
     ]
    }
   ],
   "source": [
    "knn = KNeighborsClassifier(n_neighbors = 3)\n",
    "knn.fit(x_train, y_train)\n",
    "y_pred = knn.predict(x_test)\n",
    "acc_knn_train = round(knn.score(x_train, y_train) * 100, 2)\n",
    "acc_knn_test = round(knn.score(x_test, y_test) * 100, 2)\n",
    "acc_train.append(acc_knn_train)\n",
    "acc_test.append(acc_knn_test)\n",
    "print('The training accuracy is :  %r ' %acc_knn_train)\n",
    "print('The test accuracy is :  %r ' %acc_knn_test)"
   ]
  },
  {
   "cell_type": "markdown",
   "metadata": {},
   "source": [
    "### Perceptron"
   ]
  },
  {
   "cell_type": "code",
   "execution_count": 32,
   "metadata": {
    "ExecuteTime": {
     "end_time": "2017-12-06T07:16:13.030588Z",
     "start_time": "2017-12-06T07:16:12.902935Z"
    }
   },
   "outputs": [
    {
     "name": "stdout",
     "output_type": "stream",
     "text": [
      "The training accuracy is :  69.879999999999995 \n",
      "The test accuracy is :  69.629999999999995 \n"
     ]
    },
    {
     "name": "stderr",
     "output_type": "stream",
     "text": [
      "/Users/Romain/.virtualenvs/romainvenv/lib/python3.6/site-packages/sklearn/linear_model/stochastic_gradient.py:84: FutureWarning: max_iter and tol parameters have been added in <class 'sklearn.linear_model.perceptron.Perceptron'> in 0.19. If both are left unset, they default to max_iter=5 and tol=None. If tol is not None, max_iter defaults to max_iter=1000. From 0.21, default max_iter will be 1000, and default tol will be 1e-3.\n",
      "  \"and default tol will be 1e-3.\" % type(self), FutureWarning)\n"
     ]
    }
   ],
   "source": [
    "perceptron = Perceptron()\n",
    "perceptron.fit(x_train, y_train)\n",
    "y_pred = perceptron.predict(x_test)\n",
    "acc_perceptron_train = round(perceptron.score(x_train, y_train) * 100, 2)\n",
    "acc_perceptron_test = round(perceptron.score(x_test, y_test) * 100, 2)\n",
    "acc_train.append(acc_perceptron_train)\n",
    "acc_test.append(acc_perceptron_test)\n",
    "print('The training accuracy is :  %r ' %acc_perceptron_train)\n",
    "print('The test accuracy is :  %r ' %acc_perceptron_test)"
   ]
  },
  {
   "cell_type": "markdown",
   "metadata": {},
   "source": [
    "### Gradient boosting"
   ]
  },
  {
   "cell_type": "code",
   "execution_count": 33,
   "metadata": {
    "ExecuteTime": {
     "end_time": "2017-12-06T07:16:24.480233Z",
     "start_time": "2017-12-06T07:16:13.032265Z"
    }
   },
   "outputs": [
    {
     "name": "stdout",
     "output_type": "stream",
     "text": [
      "The training accuracy is :  72.920000000000002 \n",
      "The test accuracy is :  72.489999999999995 \n"
     ]
    }
   ],
   "source": [
    "gradboost = xgb.XGBClassifier(n_estimators=1000)\n",
    "gradboost.fit(x_train, y_train)\n",
    "y_pred = gradboost.predict(x_test)\n",
    "acc_xgboost_train = round(gradboost.score(x_train, y_train) * 100, 2)\n",
    "acc_xgboost_test = round(gradboost.score(x_test, y_test) * 100, 2)\n",
    "acc_train.append(acc_xgboost_train)\n",
    "acc_test.append(acc_xgboost_test)\n",
    "print('The training accuracy is :  %r ' %acc_xgboost_train)\n",
    "print('The test accuracy is :  %r ' %acc_xgboost_test)"
   ]
  },
  {
   "cell_type": "markdown",
   "metadata": {},
   "source": [
    "### Random forest"
   ]
  },
  {
   "cell_type": "code",
   "execution_count": 34,
   "metadata": {
    "ExecuteTime": {
     "end_time": "2017-12-06T07:17:24.439452Z",
     "start_time": "2017-12-06T07:16:24.482248Z"
    }
   },
   "outputs": [
    {
     "name": "stdout",
     "output_type": "stream",
     "text": [
      "The training accuracy is :  73.329999999999998 \n",
      "The test accuracy is :  72.359999999999999 \n"
     ]
    }
   ],
   "source": [
    "random_forest = RandomForestClassifier(n_estimators=1000)\n",
    "random_forest.fit(x_train, y_train)\n",
    "Y_pred = random_forest.predict(x_test)\n",
    "acc_random_forest_train = round(random_forest.score(x_train, y_train) * 100, 2)\n",
    "acc_random_forest_test = round(random_forest.score(x_test, y_test) * 100, 2)\n",
    "acc_train.append(acc_random_forest_train)\n",
    "acc_test.append(acc_random_forest_test)\n",
    "print('The training accuracy is :  %r ' %acc_random_forest_train)\n",
    "print('The test accuracy is :  %r ' %acc_random_forest_test)"
   ]
  },
  {
   "cell_type": "markdown",
   "metadata": {},
   "source": [
    "## Conclusion with graphs"
   ]
  },
  {
   "cell_type": "code",
   "execution_count": 27,
   "metadata": {
    "ExecuteTime": {
     "end_time": "2017-12-06T06:59:53.072846Z",
     "start_time": "2017-12-06T06:59:38.771085Z"
    }
   },
   "outputs": [
    {
     "name": "stdout",
     "output_type": "stream",
     "text": [
      "0.732685586065\n"
     ]
    },
    {
     "data": {
      "image/png": "[encoded data removed]",
      "text/plain": [
       "<matplotlib.figure.Figure at 0x11cc9ee10>"
      ]
     },
     "metadata": {},
     "output_type": "display_data"
    }
   ],
   "source": [
    "def plot_model_var_imp( model , X , y ):\n",
    "    imp = pd.DataFrame(\n",
    "        model.feature_importances_  ,\n",
    "        columns = [ 'Importance' ] ,\n",
    "        index = X.columns\n",
    "    )\n",
    "    imp = imp.sort_values( [ 'Importance' ] , ascending = True )\n",
    "    imp[ : 10 ].plot( kind = 'barh' )\n",
    "    print (model.score( X , y ))\n",
    "    \n",
    "plot_model_var_imp(random_forest, x_train, y_train)"
   ]
  },
  {
   "cell_type": "code",
   "execution_count": 38,
   "metadata": {
    "ExecuteTime": {
     "end_time": "2017-12-06T07:28:26.067231Z",
     "start_time": "2017-12-06T07:28:25.890805Z"
    }
   },
   "outputs": [
    {
     "data": {
      "image/png": "[encoded data removed]",
      "text/plain": [
       "<matplotlib.figure.Figure at 0x1122f63c8>"
      ]
     },
     "metadata": {},
     "output_type": "display_data"
    }
   ],
   "source": [
    "methods = ['Logistic Regression','k-NN','Perceptron','XGBoost','Random Forests']\n",
    "n_method = [i for i in range(1,len(methods)+1)]\n",
    "plt.bar(n_method, acc_train, align='center')\n",
    "plt.xticks(n_method, methods)\n",
    "plt.title('Training Accuracy vs the different methods')\n",
    "plt.ylabel('Training Accuracy')\n",
    "plt.xlabel('Methods')\n",
    "plt.show()"
   ]
  },
  {
   "cell_type": "code",
   "execution_count": 40,
   "metadata": {
    "ExecuteTime": {
     "end_time": "2017-12-06T07:28:49.928606Z",
     "start_time": "2017-12-06T07:28:49.746282Z"
    }
   },
   "outputs": [
    {
     "data": {
      "image/png": "[encoded data removed]",
      "text/plain": [
       "<matplotlib.figure.Figure at 0x11504b710>"
      ]
     },
     "metadata": {},
     "output_type": "display_data"
    }
   ],
   "source": [
    "methods = ['Logistic Regression','k-NN','Perceptron','XGBoost','Random Forests']\n",
    "n_method = [i for i in range(1,len(methods)+1)]\n",
    "plt.bar(n_method, acc_test, align='center')\n",
    "plt.xticks(n_method, methods)\n",
    "plt.title('Test Accuracy vs the different methods')\n",
    "plt.ylabel('Test Accuracy')\n",
    "plt.xlabel('Methods')\n",
    "plt.show()"
   ]
  },
  {
   "cell_type": "code",
   "execution_count": null,
   "metadata": {
    "collapsed": true
   },
   "outputs": [],
   "source": []
  }
 ],
 "metadata": {
  "kernelspec": {
   "display_name": "romainvenv",
   "language": "python",
   "name": "romainvenv"
  },
  "language_info": {
   "codemirror_mode": {
    "name": "ipython",
    "version": 3
   },
   "file_extension": ".py",
   "mimetype": "text/x-python",
   "name": "python",
   "nbconvert_exporter": "python",
   "pygments_lexer": "ipython3",
   "version": "3.6.2"
  },
  "toc": {
   "nav_menu": {},
   "number_sections": false,
   "sideBar": true,
   "skip_h1_title": false,
   "toc_cell": true,
   "toc_position": {
    "height": "629px",
    "left": "0px",
    "right": "1228px",
    "top": "107px",
    "width": "212px"
   },
   "toc_section_display": "block",
   "toc_window_display": true
  }
 },
 "nbformat": 4,
 "nbformat_minor": 2
}
