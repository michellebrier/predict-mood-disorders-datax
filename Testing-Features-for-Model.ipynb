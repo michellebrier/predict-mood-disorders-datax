{
 "cells": [
  {
   "cell_type": "code",
   "execution_count": null,
   "metadata": {
    "collapsed": true
   },
   "outputs": [],
   "source": [
    "from sklearn import linear_model, datasets\n",
    "from sklearn.svm import SVC\n",
    "from sklearn.neighbors import KNeighborsClassifier\n",
    "from xgboost import XGBClassifier\n",
    "from sklearn.model_selection import train_test_split\n",
    "from sklearn.metrics import accuracy_score\n",
    "from sklearn.ensemble import RandomForestClassifier\n",
    "import pandas as pd\n",
    "import warnings\n",
    "warnings.filterwarnings('ignore')"
   ]
  },
  {
   "cell_type": "code",
   "execution_count": null,
   "metadata": {
    "collapsed": true
   },
   "outputs": [],
   "source": [
    "final = pd.read_csv('demographics_with_problems_labels_v2.csv', delimiter = ';')\n",
    "final.head()"
   ]
  },
  {
   "cell_type": "code",
   "execution_count": null,
   "metadata": {
    "collapsed": true
   },
   "outputs": [],
   "source": [
    "X = final[['isSleepDisorder', 'isActiveSleepDisorder']]\n",
    "Y = final['isDepression']\n",
    "test = [linear_model.LogisticRegression(), SVC(), linear_model.Perceptron(), KNeighborsClassifier(), XGBClassifier(),\n",
    "        RandomForestClassifier()]\n",
    "name = [\"Logistic Regression\", \"SVC\", \"Perceptron\", \"KNN\", \"XGB\", \"Random Forest\"]\n",
    "X_train, X_test, Y_train, Y_test = train_test_split(X, Y, test_size = 0.20)\n",
    "for n in range(0, len(test)):\n",
    "    model = test[n]\n",
    "    model.fit(X_train, Y_train)\n",
    "    print(name[n])\n",
    "    print(\"Training accuracy: \", model.score(X_train, Y_train))\n",
    "    print(\"Test accuracy: \", model.score(X_test, Y_test))"
   ]
  },
  {
   "cell_type": "code",
   "execution_count": null,
   "metadata": {
    "collapsed": true
   },
   "outputs": [],
   "source": [
    "X = final[['isSleepDisorder', 'isActiveSleepDisorder', 'isAnxiety', 'isActiveAnxiety']]\n",
    "Y = final['isDepression']\n",
    "X_train, X_test, Y_train, Y_test = train_test_split(X, Y, test_size = 0.20)\n",
    "for n in range(0, len(test)):\n",
    "    model = test[n]\n",
    "    model.fit(X_train, Y_train)\n",
    "    print(name[n])\n",
    "    print(\"Training accuracy: \", model.score(X_train, Y_train))\n",
    "    print(\"Test accuracy: \", model.score(X_test, Y_test))"
   ]
  },
  {
   "cell_type": "code",
   "execution_count": null,
   "metadata": {
    "collapsed": true
   },
   "outputs": [],
   "source": [
    "X = final[['isSleepDisorder', 'isActiveSleepDisorder','label_ethnicity', \n",
    "          'label_sex', 'label_age']]\n",
    "Y = final['isDepression']\n",
    "X_train, X_test, Y_train, Y_test = train_test_split(X, Y, test_size = 0.20)\n",
    "for n in range(0, len(test)):\n",
    "    model = test[n]\n",
    "    model.fit(X_train, Y_train)\n",
    "    print(name[n])\n",
    "    print(\"Training accuracy: \", model.score(X_train, Y_train))\n",
    "    print(\"Test accuracy: \", model.score(X_test, Y_test))"
   ]
  },
  {
   "cell_type": "code",
   "execution_count": null,
   "metadata": {
    "collapsed": true
   },
   "outputs": [],
   "source": [
    "X = final[['isAnxiety', 'isActiveAnxiety']]\n",
    "Y = final['isDepression']\n",
    "X_train, X_test, Y_train, Y_test = train_test_split(X, Y, test_size = 0.20)\n",
    "for n in range(0, len(test)):\n",
    "    model = test[n]\n",
    "    model.fit(X_train, Y_train)\n",
    "    print(name[n])\n",
    "    print(\"Training accuracy: \", model.score(X_train, Y_train))\n",
    "    print(\"Test accuracy: \", model.score(X_test, Y_test))"
   ]
  },
  {
   "cell_type": "code",
   "execution_count": null,
   "metadata": {
    "collapsed": true
   },
   "outputs": [],
   "source": [
    "X = final[['isAnxiety', 'isActiveAnxiety','label_ethnicity', \n",
    "          'label_sex', 'label_age']]\n",
    "Y = final['isDepression']\n",
    "X_train, X_test, Y_train, Y_test = train_test_split(X, Y, test_size = 0.20)\n",
    "for n in range(0, len(test)):\n",
    "    model = test[n]\n",
    "    model.fit(X_train, Y_train)\n",
    "    print(name[n])\n",
    "    print(\"Training accuracy: \", model.score(X_train, Y_train))\n",
    "    print(\"Test accuracy: \", model.score(X_test, Y_test))"
   ]
  },
  {
   "cell_type": "code",
   "execution_count": null,
   "metadata": {
    "collapsed": true
   },
   "outputs": [],
   "source": [
    "X = final[['isSleepDisorder', 'isActiveSleepDisorder', 'isAnxiety', 'isActiveAnxiety', 'label_ethnicity', \n",
    "          'label_sex', 'label_age']]\n",
    "Y = final['isDepression']\n",
    "X_train, X_test, Y_train, Y_test = train_test_split(X, Y, test_size = 0.20)\n",
    "for n in range(0, len(test)):\n",
    "    model = test[n]\n",
    "    model.fit(X_train, Y_train)\n",
    "    print(name[n])\n",
    "    print(\"Training accuracy: \", model.score(X_train, Y_train))\n",
    "    print(\"Test accuracy: \", model.score(X_test, Y_test))"
   ]
  },
  {
   "cell_type": "code",
   "execution_count": null,
   "metadata": {
    "collapsed": true
   },
   "outputs": [],
   "source": [
    "X = final[['label_ethnicity', \n",
    "          'label_sex', 'label_age']]\n",
    "Y = final['isDepression']\n",
    "X_train, X_test, Y_train, Y_test = train_test_split(X, Y, test_size = 0.20)\n",
    "for n in range(0, len(test)):\n",
    "    model = test[n]\n",
    "    model.fit(X_train, Y_train)\n",
    "    print(name[n])\n",
    "    print(\"Training accuracy: \", model.score(X_train, Y_train))\n",
    "    print(\"Test accuracy: \", model.score(X_test, Y_test))"
   ]
  }
 ],
 "metadata": {
  "kernelspec": {
   "display_name": "Python 3",
   "language": "python",
   "name": "python3"
  },
  "language_info": {
   "codemirror_mode": {
    "name": "ipython",
    "version": 3
   },
   "file_extension": ".py",
   "mimetype": "text/x-python",
   "name": "python",
   "nbconvert_exporter": "python",
   "pygments_lexer": "ipython3",
   "version": "3.6.1"
  }
 },
 "nbformat": 4,
 "nbformat_minor": 2
}
